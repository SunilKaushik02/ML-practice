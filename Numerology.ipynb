{
 "cells": [
  {
   "cell_type": "code",
   "execution_count": 1,
   "metadata": {},
   "outputs": [],
   "source": [
    "import pandas as pd"
   ]
  },
  {
   "cell_type": "code",
   "execution_count": 53,
   "metadata": {},
   "outputs": [],
   "source": [
    "num_dict={'A':1,\n",
    "    'B':2,\n",
    "    'C':3,\n",
    "    'D':4,\n",
    "    'E':5,\n",
    "    'F':6,\n",
    "    'G':7,\n",
    "    'H':8,\n",
    "    'I':9,\n",
    "    'J':1,\n",
    "    'K':2,\n",
    "    'L':3,\n",
    "    'M':4,\n",
    "    'N':5,\n",
    "    'O':6,\n",
    "    'P':7,\n",
    "    'Q':8,\n",
    "    'R':9,\n",
    "    'S':1,\n",
    "    'T':2,\n",
    "    'U':3,\n",
    "    'V':4,\n",
    "    'W':5,\n",
    "    'X':6,\n",
    "    'Y':7,\n",
    "    'Z':8}\n",
    "\n",
    "chal_dict={'A':1,\n",
    "    'B':2,\n",
    "    'C':3,\n",
    "    'D':4,\n",
    "    'E':5,\n",
    "    'F':8,\n",
    "    'G':3,\n",
    "    'H':5,\n",
    "    'I':1,\n",
    "    'J':1,\n",
    "    'K':2,\n",
    "    'L':3,\n",
    "    'M':4,\n",
    "    'N':5,\n",
    "    'O':7,\n",
    "    'P':8,\n",
    "    'Q':1,\n",
    "    'R':2,\n",
    "    'S':3,\n",
    "    'T':4,\n",
    "    'U':6,\n",
    "    'V':6,\n",
    "    'W':6,\n",
    "    'X':5,\n",
    "    'Y':1,\n",
    "    'Z':7}"
   ]
  },
  {
   "cell_type": "code",
   "execution_count": 59,
   "metadata": {},
   "outputs": [],
   "source": [
    "def num_func():\n",
    "    name=input(\"Please enter name to convert to numerology: \")\n",
    "    name=name.replace(' ','').upper()\n",
    "    \n",
    "    count=0\n",
    "    for x in name:\n",
    "        count+=num_dict.get(x)\n",
    "        \n",
    "    c_count=0\n",
    "    for x in name:\n",
    "        c_count+=chal_dict.get(x)\n",
    "        \n",
    "    print(f'''Pythogorean numerology is: {count} and \n",
    "    chaldean numerology is: {c_count}''')\n",
    "        \n",
    "    return count,c_count"
   ]
  },
  {
   "cell_type": "code",
   "execution_count": 109,
   "metadata": {},
   "outputs": [
    {
     "name": "stdout",
     "output_type": "stream",
     "text": [
      "Please enter name to convert to numerology: ashwath\n",
      "Pythogorean numerology is: 26 and \n",
      "    chaldean numerology is: 25\n"
     ]
    },
    {
     "data": {
      "text/plain": [
       "(26, 25)"
      ]
     },
     "execution_count": 109,
     "metadata": {},
     "output_type": "execute_result"
    }
   ],
   "source": [
    "num_func()"
   ]
  },
  {
   "cell_type": "code",
   "execution_count": null,
   "metadata": {},
   "outputs": [],
   "source": []
  }
 ],
 "metadata": {
  "kernelspec": {
   "display_name": "Python 3",
   "language": "python",
   "name": "python3"
  },
  "language_info": {
   "codemirror_mode": {
    "name": "ipython",
    "version": 3
   },
   "file_extension": ".py",
   "mimetype": "text/x-python",
   "name": "python",
   "nbconvert_exporter": "python",
   "pygments_lexer": "ipython3",
   "version": "3.7.5"
  }
 },
 "nbformat": 4,
 "nbformat_minor": 2
}
